{
  "nbformat": 4,
  "nbformat_minor": 0,
  "metadata": {
    "colab": {
      "name": "101_ml_KNN_template.ipynb",
      "provenance": [],
      "collapsed_sections": [],
      "authorship_tag": "ABX9TyNW0spVGKZa+w04sgdgc5el"
    },
    "kernelspec": {
      "name": "python3",
      "display_name": "Python 3"
    }
  },
  "cells": [
    {
      "cell_type": "code",
      "metadata": {
        "id": "twtJJuR171aD",
        "colab_type": "code",
        "colab": {}
      },
      "source": [
        "import pylab as pl #chart lib\n",
        "from sklearn import neighbors, datasets\n",
        "import pandas as pd\n",
        "import numpy as np\n"
      ],
      "execution_count": 0,
      "outputs": []
    },
    {
      "cell_type": "code",
      "metadata": {
        "id": "Y59zxtjL8McJ",
        "colab_type": "code",
        "colab": {}
      },
      "source": [
        "#Lets use Iris Dataset (So Famous!)\n",
        "iris = datasets.load_iris()"
      ],
      "execution_count": 0,
      "outputs": []
    },
    {
      "cell_type": "code",
      "metadata": {
        "id": "fqO8mlul8YVM",
        "colab_type": "code",
        "colab": {}
      },
      "source": [
        "#converting to dataframe format\n",
        "df_iris = pd.DataFrame(data=np.c_[iris['data'],iris['target']], columns=iris['feature_names'] + ['target'])"
      ],
      "execution_count": 0,
      "outputs": []
    },
    {
      "cell_type": "code",
      "metadata": {
        "id": "dY7fAx5w8tfj",
        "colab_type": "code",
        "colab": {
          "base_uri": "https://localhost:8080/",
          "height": 235
        },
        "outputId": "3a1c0dc5-12fa-4181-92a2-f286e0eaf616"
      },
      "source": [
        "#checking dataset\n",
        "print(df_iris.head(10))"
      ],
      "execution_count": 18,
      "outputs": [
        {
          "output_type": "stream",
          "text": [
            "   sepal length (cm)  sepal width (cm)  ...  petal width (cm)  target\n",
            "0                5.1               3.5  ...               0.2     0.0\n",
            "1                4.9               3.0  ...               0.2     0.0\n",
            "2                4.7               3.2  ...               0.2     0.0\n",
            "3                4.6               3.1  ...               0.2     0.0\n",
            "4                5.0               3.6  ...               0.2     0.0\n",
            "5                5.4               3.9  ...               0.4     0.0\n",
            "6                4.6               3.4  ...               0.3     0.0\n",
            "7                5.0               3.4  ...               0.2     0.0\n",
            "8                4.4               2.9  ...               0.2     0.0\n",
            "9                4.9               3.1  ...               0.1     0.0\n",
            "\n",
            "[10 rows x 5 columns]\n"
          ],
          "name": "stdout"
        }
      ]
    },
    {
      "cell_type": "code",
      "metadata": {
        "id": "y1Hxe2uE82t6",
        "colab_type": "code",
        "colab": {}
      },
      "source": [
        "#transform data into array format\n",
        "x = df_iris.iloc[:, :-1].values #input data\n",
        "y = df_iris.iloc[:, 4].values #output data"
      ],
      "execution_count": 0,
      "outputs": []
    },
    {
      "cell_type": "code",
      "metadata": {
        "id": "6Cc5RQtK9LHe",
        "colab_type": "code",
        "colab": {}
      },
      "source": [
        "#split train - test dataset\n",
        "from sklearn.model_selection import train_test_split \n",
        "#splitting and setting 20% data as a test\n",
        "X_train, X_test, y_train, y_test = train_test_split(x,y, test_size=0.20) "
      ],
      "execution_count": 0,
      "outputs": []
    },
    {
      "cell_type": "code",
      "metadata": {
        "id": "dAhQKtuP9mBI",
        "colab_type": "code",
        "colab": {}
      },
      "source": [
        "#applying data normalization\n",
        "from sklearn.preprocessing import StandardScaler\n",
        "scaler = StandardScaler() \n",
        "scaler.fit(X_train)\n",
        "\n",
        "X_train = scaler.transform(X_train)\n",
        "X_test = scaler.transform(X_test)"
      ],
      "execution_count": 0,
      "outputs": []
    },
    {
      "cell_type": "code",
      "metadata": {
        "id": "6mp-tId5-E4n",
        "colab_type": "code",
        "colab": {
          "base_uri": "https://localhost:8080/",
          "height": 67
        },
        "outputId": "f3afe386-e41f-438d-ab99-c3fd3b17a759"
      },
      "source": [
        "#trainning the model\n",
        "from sklearn.neighbors import KNeighborsClassifier\n",
        "clf = KNeighborsClassifier(n_neighbors=5) #setting 5 near neighbors\n",
        "clf.fit(X_train, y_train) #applying classification"
      ],
      "execution_count": 22,
      "outputs": [
        {
          "output_type": "execute_result",
          "data": {
            "text/plain": [
              "KNeighborsClassifier(algorithm='auto', leaf_size=30, metric='minkowski',\n",
              "                     metric_params=None, n_jobs=None, n_neighbors=5, p=2,\n",
              "                     weights='uniform')"
            ]
          },
          "metadata": {
            "tags": []
          },
          "execution_count": 22
        }
      ]
    },
    {
      "cell_type": "code",
      "metadata": {
        "id": "dlM5c0Ox-qm3",
        "colab_type": "code",
        "colab": {}
      },
      "source": [
        "#doing some prediction\n",
        "y_pred = clf.predict(X_test)"
      ],
      "execution_count": 0,
      "outputs": []
    },
    {
      "cell_type": "code",
      "metadata": {
        "id": "1nYcEhWl-9uL",
        "colab_type": "code",
        "colab": {
          "base_uri": "https://localhost:8080/",
          "height": 235
        },
        "outputId": "6052e57c-f057-4775-9224-7589a1f42bc2"
      },
      "source": [
        "#building confusion matrix \n",
        "from sklearn.metrics import classification_report, confusion_matrix\n",
        "print(confusion_matrix(y_test, y_pred))\n",
        "print(classification_report(y_test, y_pred))"
      ],
      "execution_count": 24,
      "outputs": [
        {
          "output_type": "stream",
          "text": [
            "[[ 7  0  0]\n",
            " [ 0  9  0]\n",
            " [ 0  2 12]]\n",
            "              precision    recall  f1-score   support\n",
            "\n",
            "         0.0       1.00      1.00      1.00         7\n",
            "         1.0       0.82      1.00      0.90         9\n",
            "         2.0       1.00      0.86      0.92        14\n",
            "\n",
            "    accuracy                           0.93        30\n",
            "   macro avg       0.94      0.95      0.94        30\n",
            "weighted avg       0.95      0.93      0.93        30\n",
            "\n"
          ],
          "name": "stdout"
        }
      ]
    },
    {
      "cell_type": "code",
      "metadata": {
        "id": "vxwXksG1_bzC",
        "colab_type": "code",
        "colab": {
          "base_uri": "https://localhost:8080/",
          "height": 279
        },
        "outputId": "c63f6415-61c1-48f1-882e-f99110309580"
      },
      "source": [
        "#lets plot confusion matrix\n",
        "matrix = confusion_matrix(y_test, y_pred)\n",
        "from mlxtend.plotting import plot_confusion_matrix\n",
        "fig, ax = plot_confusion_matrix(conf_mat=matrix)\n",
        "pl.savefig('knnConfusionMatrix.png')\n",
        "pl.show()"
      ],
      "execution_count": 30,
      "outputs": [
        {
          "output_type": "display_data",
          "data": {
            "image/png": "[encoded data removed]",
            "text/plain": [
              "<Figure size 432x288 with 1 Axes>"
            ]
          },
          "metadata": {
            "tags": [],
            "needs_background": "light"
          }
        }
      ]
    },
    {
      "cell_type": "code",
      "metadata": {
        "id": "PM3bUVu7MVRm",
        "colab_type": "code",
        "colab": {}
      },
      "source": [
        ""
      ],
      "execution_count": 0,
      "outputs": []
    }
  ]
}